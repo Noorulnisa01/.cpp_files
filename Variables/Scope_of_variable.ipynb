{
 "cells": [
  {
   "cell_type": "markdown",
   "metadata": {},
   "source": [
    "# ***Scope of Variables/Identifiers***\n",
    "### *Authourized by* ***NOOR UL NISA***\n",
    "### *Contact by: 766noornisa@gmail.com*"
   ]
  },
  {
   "cell_type": "markdown",
   "metadata": {},
   "source": [
    "> # ***Scope of Identifiers***\n",
    "#### ***Identifier*** means any name that the user creates in his/her program. These names can be of variables, functions and labels.\n",
    "- The ***scope of an identifier*** means its *visibility and accessibility within the program*.\n",
    "\n",
    "> ## ***Types of Scope:***\n",
    "\n",
    "### ***1. Function Level Scope:*** \n",
    "\n",
    "   #### Variables declared ***inside a function*** are local to that function.\n",
    "\n",
    "### ***2. Block Level Scope:*** \n",
    "\n",
    "   #### Variables declared ***inside a code*** block (e.g., if, for, while) are local to that block.\n",
    "\n",
    "### ***3. File Scope (Global Scope):***\n",
    "\n",
    "   #### Variables declared ***outsid***e any function or block are accessible throughout the file."
   ]
  }
 ],
 "metadata": {
  "language_info": {
   "name": "python"
  }
 },
 "nbformat": 4,
 "nbformat_minor": 2
}
